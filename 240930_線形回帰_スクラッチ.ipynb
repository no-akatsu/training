{
  "nbformat": 4,
  "nbformat_minor": 0,
  "metadata": {
    "colab": {
      "provenance": [],
      "authorship_tag": "ABX9TyMU9MO6Y6OIcdGP1vPW5Wqp",
      "include_colab_link": true
    },
    "kernelspec": {
      "name": "python3",
      "display_name": "Python 3"
    },
    "language_info": {
      "name": "python"
    }
  },
  "cells": [
    {
      "cell_type": "markdown",
      "metadata": {
        "id": "view-in-github",
        "colab_type": "text"
      },
      "source": [
        "<a href=\"https://colab.research.google.com/github/no-akatsu/training/blob/main/240930_%E7%B7%9A%E5%BD%A2%E5%9B%9E%E5%B8%B0_%E3%82%B9%E3%82%AF%E3%83%A9%E3%83%83%E3%83%81.ipynb\" target=\"_parent\"><img src=\"https://colab.research.google.com/assets/colab-badge.svg\" alt=\"Open In Colab\"/></a>"
      ]
    },
    {
      "cell_type": "markdown",
      "source": [
        "# import"
      ],
      "metadata": {
        "id": "T_A6Kpex5sIj"
      }
    },
    {
      "cell_type": "code",
      "execution_count": 14,
      "metadata": {
        "id": "LIzWLxSJ5lFQ"
      },
      "outputs": [],
      "source": [
        "import numpy as np\n",
        "import matplotlib.pyplot as plt\n",
        "from sklearn.datasets import fetch_california_housing\n",
        "from sklearn.model_selection import train_test_split"
      ]
    },
    {
      "cell_type": "markdown",
      "source": [
        "# Model"
      ],
      "metadata": {
        "id": "eI__ZZE-5tXW"
      }
    },
    {
      "cell_type": "code",
      "source": [
        "class LinearRegression:\n",
        "    def __init__(self, lr=0.01, epochs=1000):\n",
        "        # 初期値として、learning rate、epoch数、重みW、\n",
        "        self.lr = lr\n",
        "        self.epochs = epochs\n",
        "        self.W = None\n",
        "        self.b = None\n",
        "\n",
        "    def fit(self, X, y):\n",
        "        n_samples, n_features = X.shape\n",
        "        self.W = np.zeros(n_features)\n",
        "        self.b = 0\n",
        "\n",
        "        for epoch in range(self.epochs):\n",
        "            y_pred = np.dot(X, self.W) + self.b\n",
        "\n",
        "            # 勾配の計算\n",
        "            dw = (1/n_samples) * np.dot(X.T, (y_pred - y))\n",
        "            db = (1/n_samples) * np.sum(y_pred - y)\n",
        "\n",
        "            # 重みとバイアスの更新\n",
        "            self.W -= self.lr * dw\n",
        "            self.b -= self.lr * db\n",
        "\n",
        "            if epoch % 100 == 0:\n",
        "                print(f'Epoch: {epoch}, Loss: {dw}')\n",
        "\n",
        "\n",
        "    def predict(self, X):\n",
        "        return np.dot(X, self.W) + self.b"
      ],
      "metadata": {
        "id": "3lDfWZ2Q5p98"
      },
      "execution_count": 31,
      "outputs": []
    },
    {
      "cell_type": "code",
      "source": [
        "# データをロード\n",
        "california_housing = fetch_california_housing()\n",
        "X = california_housing.data[:, np.newaxis, 2]\n",
        "y = california_housing.target"
      ],
      "metadata": {
        "id": "1xO4G6M--j63"
      },
      "execution_count": 32,
      "outputs": []
    },
    {
      "cell_type": "code",
      "source": [
        "X, X.shape"
      ],
      "metadata": {
        "colab": {
          "base_uri": "https://localhost:8080/"
        },
        "id": "dJmP2n6iAV5l",
        "outputId": "ebf15140-e642-432d-8d25-67d9021dee77"
      },
      "execution_count": 34,
      "outputs": [
        {
          "output_type": "execute_result",
          "data": {
            "text/plain": [
              "(array([[6.98412698],\n",
              "        [6.23813708],\n",
              "        [8.28813559],\n",
              "        ...,\n",
              "        [5.20554273],\n",
              "        [5.32951289],\n",
              "        [5.25471698]]),\n",
              " (20640, 1))"
            ]
          },
          "metadata": {},
          "execution_count": 34
        }
      ]
    },
    {
      "cell_type": "code",
      "source": [
        "y, y.shape"
      ],
      "metadata": {
        "colab": {
          "base_uri": "https://localhost:8080/"
        },
        "id": "B8HkaoJrAXmx",
        "outputId": "b5acf78e-8f31-4723-ea6f-8af7d54599ab"
      },
      "execution_count": 35,
      "outputs": [
        {
          "output_type": "execute_result",
          "data": {
            "text/plain": [
              "(array([4.526, 3.585, 3.521, ..., 0.923, 0.847, 0.894]), (20640,))"
            ]
          },
          "metadata": {},
          "execution_count": 35
        }
      ]
    },
    {
      "cell_type": "code",
      "source": [
        "# データをトレーニングセットとテストセットに分割\n",
        "X_train, X_test, y_train, y_test = train_test_split(X, y, test_size=0.2, random_state=42)\n",
        "\n",
        "# モデルの作成と学習\n",
        "model = LinearRegression(lr=0.01, epochs=1000)\n",
        "model.fit(X_train, y_train)"
      ],
      "metadata": {
        "colab": {
          "base_uri": "https://localhost:8080/"
        },
        "id": "OYWP2pSDAGs0",
        "outputId": "db910c62-83f0-4368-ca11-8b08b3f03ddc"
      },
      "execution_count": 36,
      "outputs": [
        {
          "output_type": "stream",
          "name": "stdout",
          "text": [
            "Epoch: 0, Loss: [-11.69896506]\n",
            "Epoch: 100, Loss: [0.03351859]\n",
            "Epoch: 200, Loss: [0.02861778]\n",
            "Epoch: 300, Loss: [0.02443353]\n",
            "Epoch: 400, Loss: [0.02086106]\n",
            "Epoch: 500, Loss: [0.01781093]\n",
            "Epoch: 600, Loss: [0.01520676]\n",
            "Epoch: 700, Loss: [0.01298336]\n",
            "Epoch: 800, Loss: [0.01108504]\n",
            "Epoch: 900, Loss: [0.00946428]\n"
          ]
        }
      ]
    },
    {
      "cell_type": "code",
      "source": [
        "# 学習後の重みとバイアスを表示\n",
        "print('学習された重み（W）:', model.W)\n",
        "print('学習されたバイアス（b）:', model.b)"
      ],
      "metadata": {
        "colab": {
          "base_uri": "https://localhost:8080/"
        },
        "id": "eety5vA3A1Lx",
        "outputId": "aae6dfe6-4b28-4e25-ce70-c0d44439f7ec"
      },
      "execution_count": 37,
      "outputs": [
        {
          "output_type": "stream",
          "name": "stdout",
          "text": [
            "学習された重み（W）: [0.12791504]\n",
            "学習されたバイアス（b）: 1.3245411859046894\n"
          ]
        }
      ]
    },
    {
      "cell_type": "code",
      "source": [
        "y_pred = model.predict(X_test)\n",
        "y_pred"
      ],
      "metadata": {
        "colab": {
          "base_uri": "https://localhost:8080/"
        },
        "id": "eA7EGR95Bl2_",
        "outputId": "34d6a9d7-132e-4693-bf2c-c0a6528f5465"
      },
      "execution_count": 38,
      "outputs": [
        {
          "output_type": "execute_result",
          "data": {
            "text/plain": [
              "array([1.86078667, 1.96915411, 1.83327907, ..., 2.25034877, 2.00108759,\n",
              "       1.8347737 ])"
            ]
          },
          "metadata": {},
          "execution_count": 38
        }
      ]
    },
    {
      "cell_type": "code",
      "source": [],
      "metadata": {
        "id": "KoePaqkyB8oC"
      },
      "execution_count": null,
      "outputs": []
    }
  ]
}