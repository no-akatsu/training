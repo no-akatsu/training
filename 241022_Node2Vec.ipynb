{
  "nbformat": 4,
  "nbformat_minor": 0,
  "metadata": {
    "colab": {
      "provenance": [],
      "authorship_tag": "ABX9TyPnOHK2XJQYL0HpKHZtMHb2",
      "include_colab_link": true
    },
    "kernelspec": {
      "name": "python3",
      "display_name": "Python 3"
    },
    "language_info": {
      "name": "python"
    },
    "widgets": {
      "application/vnd.jupyter.widget-state+json": {
        "bf464b3340e446009b06fc5c644d407a": {
          "model_module": "@jupyter-widgets/controls",
          "model_name": "HBoxModel",
          "model_module_version": "1.5.0",
          "state": {
            "_dom_classes": [],
            "_model_module": "@jupyter-widgets/controls",
            "_model_module_version": "1.5.0",
            "_model_name": "HBoxModel",
            "_view_count": null,
            "_view_module": "@jupyter-widgets/controls",
            "_view_module_version": "1.5.0",
            "_view_name": "HBoxView",
            "box_style": "",
            "children": [
              "IPY_MODEL_61098fd4f3084c4c8cad4bc64880e98e",
              "IPY_MODEL_a072ba763d7c4bac8f3ff0cbe1b7c540",
              "IPY_MODEL_23ac167267584880b3e3564ef1606d22"
            ],
            "layout": "IPY_MODEL_cfa9f27a91e04a23b3de49974ae15966"
          }
        },
        "61098fd4f3084c4c8cad4bc64880e98e": {
          "model_module": "@jupyter-widgets/controls",
          "model_name": "HTMLModel",
          "model_module_version": "1.5.0",
          "state": {
            "_dom_classes": [],
            "_model_module": "@jupyter-widgets/controls",
            "_model_module_version": "1.5.0",
            "_model_name": "HTMLModel",
            "_view_count": null,
            "_view_module": "@jupyter-widgets/controls",
            "_view_module_version": "1.5.0",
            "_view_name": "HTMLView",
            "description": "",
            "description_tooltip": null,
            "layout": "IPY_MODEL_a405c20f4c7e40b3a6efc35972462590",
            "placeholder": "​",
            "style": "IPY_MODEL_08ae6be03ca741f2903a489656bff00b",
            "value": "Computing transition probabilities: 100%"
          }
        },
        "a072ba763d7c4bac8f3ff0cbe1b7c540": {
          "model_module": "@jupyter-widgets/controls",
          "model_name": "FloatProgressModel",
          "model_module_version": "1.5.0",
          "state": {
            "_dom_classes": [],
            "_model_module": "@jupyter-widgets/controls",
            "_model_module_version": "1.5.0",
            "_model_name": "FloatProgressModel",
            "_view_count": null,
            "_view_module": "@jupyter-widgets/controls",
            "_view_module_version": "1.5.0",
            "_view_name": "ProgressView",
            "bar_style": "success",
            "description": "",
            "description_tooltip": null,
            "layout": "IPY_MODEL_4cb29a2020dd4a8aaedc4e0a7344e4cd",
            "max": 10,
            "min": 0,
            "orientation": "horizontal",
            "style": "IPY_MODEL_96e0759541bc469d9d07262586279331",
            "value": 10
          }
        },
        "23ac167267584880b3e3564ef1606d22": {
          "model_module": "@jupyter-widgets/controls",
          "model_name": "HTMLModel",
          "model_module_version": "1.5.0",
          "state": {
            "_dom_classes": [],
            "_model_module": "@jupyter-widgets/controls",
            "_model_module_version": "1.5.0",
            "_model_name": "HTMLModel",
            "_view_count": null,
            "_view_module": "@jupyter-widgets/controls",
            "_view_module_version": "1.5.0",
            "_view_name": "HTMLView",
            "description": "",
            "description_tooltip": null,
            "layout": "IPY_MODEL_f301df170e4544b1831a4c1fd570dbc8",
            "placeholder": "​",
            "style": "IPY_MODEL_f460f23d4f1b430f91f0727e8cc89c2e",
            "value": " 10/10 [00:00&lt;00:00, 529.20it/s]"
          }
        },
        "cfa9f27a91e04a23b3de49974ae15966": {
          "model_module": "@jupyter-widgets/base",
          "model_name": "LayoutModel",
          "model_module_version": "1.2.0",
          "state": {
            "_model_module": "@jupyter-widgets/base",
            "_model_module_version": "1.2.0",
            "_model_name": "LayoutModel",
            "_view_count": null,
            "_view_module": "@jupyter-widgets/base",
            "_view_module_version": "1.2.0",
            "_view_name": "LayoutView",
            "align_content": null,
            "align_items": null,
            "align_self": null,
            "border": null,
            "bottom": null,
            "display": null,
            "flex": null,
            "flex_flow": null,
            "grid_area": null,
            "grid_auto_columns": null,
            "grid_auto_flow": null,
            "grid_auto_rows": null,
            "grid_column": null,
            "grid_gap": null,
            "grid_row": null,
            "grid_template_areas": null,
            "grid_template_columns": null,
            "grid_template_rows": null,
            "height": null,
            "justify_content": null,
            "justify_items": null,
            "left": null,
            "margin": null,
            "max_height": null,
            "max_width": null,
            "min_height": null,
            "min_width": null,
            "object_fit": null,
            "object_position": null,
            "order": null,
            "overflow": null,
            "overflow_x": null,
            "overflow_y": null,
            "padding": null,
            "right": null,
            "top": null,
            "visibility": null,
            "width": null
          }
        },
        "a405c20f4c7e40b3a6efc35972462590": {
          "model_module": "@jupyter-widgets/base",
          "model_name": "LayoutModel",
          "model_module_version": "1.2.0",
          "state": {
            "_model_module": "@jupyter-widgets/base",
            "_model_module_version": "1.2.0",
            "_model_name": "LayoutModel",
            "_view_count": null,
            "_view_module": "@jupyter-widgets/base",
            "_view_module_version": "1.2.0",
            "_view_name": "LayoutView",
            "align_content": null,
            "align_items": null,
            "align_self": null,
            "border": null,
            "bottom": null,
            "display": null,
            "flex": null,
            "flex_flow": null,
            "grid_area": null,
            "grid_auto_columns": null,
            "grid_auto_flow": null,
            "grid_auto_rows": null,
            "grid_column": null,
            "grid_gap": null,
            "grid_row": null,
            "grid_template_areas": null,
            "grid_template_columns": null,
            "grid_template_rows": null,
            "height": null,
            "justify_content": null,
            "justify_items": null,
            "left": null,
            "margin": null,
            "max_height": null,
            "max_width": null,
            "min_height": null,
            "min_width": null,
            "object_fit": null,
            "object_position": null,
            "order": null,
            "overflow": null,
            "overflow_x": null,
            "overflow_y": null,
            "padding": null,
            "right": null,
            "top": null,
            "visibility": null,
            "width": null
          }
        },
        "08ae6be03ca741f2903a489656bff00b": {
          "model_module": "@jupyter-widgets/controls",
          "model_name": "DescriptionStyleModel",
          "model_module_version": "1.5.0",
          "state": {
            "_model_module": "@jupyter-widgets/controls",
            "_model_module_version": "1.5.0",
            "_model_name": "DescriptionStyleModel",
            "_view_count": null,
            "_view_module": "@jupyter-widgets/base",
            "_view_module_version": "1.2.0",
            "_view_name": "StyleView",
            "description_width": ""
          }
        },
        "4cb29a2020dd4a8aaedc4e0a7344e4cd": {
          "model_module": "@jupyter-widgets/base",
          "model_name": "LayoutModel",
          "model_module_version": "1.2.0",
          "state": {
            "_model_module": "@jupyter-widgets/base",
            "_model_module_version": "1.2.0",
            "_model_name": "LayoutModel",
            "_view_count": null,
            "_view_module": "@jupyter-widgets/base",
            "_view_module_version": "1.2.0",
            "_view_name": "LayoutView",
            "align_content": null,
            "align_items": null,
            "align_self": null,
            "border": null,
            "bottom": null,
            "display": null,
            "flex": null,
            "flex_flow": null,
            "grid_area": null,
            "grid_auto_columns": null,
            "grid_auto_flow": null,
            "grid_auto_rows": null,
            "grid_column": null,
            "grid_gap": null,
            "grid_row": null,
            "grid_template_areas": null,
            "grid_template_columns": null,
            "grid_template_rows": null,
            "height": null,
            "justify_content": null,
            "justify_items": null,
            "left": null,
            "margin": null,
            "max_height": null,
            "max_width": null,
            "min_height": null,
            "min_width": null,
            "object_fit": null,
            "object_position": null,
            "order": null,
            "overflow": null,
            "overflow_x": null,
            "overflow_y": null,
            "padding": null,
            "right": null,
            "top": null,
            "visibility": null,
            "width": null
          }
        },
        "96e0759541bc469d9d07262586279331": {
          "model_module": "@jupyter-widgets/controls",
          "model_name": "ProgressStyleModel",
          "model_module_version": "1.5.0",
          "state": {
            "_model_module": "@jupyter-widgets/controls",
            "_model_module_version": "1.5.0",
            "_model_name": "ProgressStyleModel",
            "_view_count": null,
            "_view_module": "@jupyter-widgets/base",
            "_view_module_version": "1.2.0",
            "_view_name": "StyleView",
            "bar_color": null,
            "description_width": ""
          }
        },
        "f301df170e4544b1831a4c1fd570dbc8": {
          "model_module": "@jupyter-widgets/base",
          "model_name": "LayoutModel",
          "model_module_version": "1.2.0",
          "state": {
            "_model_module": "@jupyter-widgets/base",
            "_model_module_version": "1.2.0",
            "_model_name": "LayoutModel",
            "_view_count": null,
            "_view_module": "@jupyter-widgets/base",
            "_view_module_version": "1.2.0",
            "_view_name": "LayoutView",
            "align_content": null,
            "align_items": null,
            "align_self": null,
            "border": null,
            "bottom": null,
            "display": null,
            "flex": null,
            "flex_flow": null,
            "grid_area": null,
            "grid_auto_columns": null,
            "grid_auto_flow": null,
            "grid_auto_rows": null,
            "grid_column": null,
            "grid_gap": null,
            "grid_row": null,
            "grid_template_areas": null,
            "grid_template_columns": null,
            "grid_template_rows": null,
            "height": null,
            "justify_content": null,
            "justify_items": null,
            "left": null,
            "margin": null,
            "max_height": null,
            "max_width": null,
            "min_height": null,
            "min_width": null,
            "object_fit": null,
            "object_position": null,
            "order": null,
            "overflow": null,
            "overflow_x": null,
            "overflow_y": null,
            "padding": null,
            "right": null,
            "top": null,
            "visibility": null,
            "width": null
          }
        },
        "f460f23d4f1b430f91f0727e8cc89c2e": {
          "model_module": "@jupyter-widgets/controls",
          "model_name": "DescriptionStyleModel",
          "model_module_version": "1.5.0",
          "state": {
            "_model_module": "@jupyter-widgets/controls",
            "_model_module_version": "1.5.0",
            "_model_name": "DescriptionStyleModel",
            "_view_count": null,
            "_view_module": "@jupyter-widgets/base",
            "_view_module_version": "1.2.0",
            "_view_name": "StyleView",
            "description_width": ""
          }
        }
      }
    }
  },
  "cells": [
    {
      "cell_type": "markdown",
      "metadata": {
        "id": "view-in-github",
        "colab_type": "text"
      },
      "source": [
        "<a href=\"https://colab.research.google.com/github/no-akatsu/training/blob/main/241022_Node2Vec.ipynb\" target=\"_parent\"><img src=\"https://colab.research.google.com/assets/colab-badge.svg\" alt=\"Open In Colab\"/></a>"
      ]
    },
    {
      "cell_type": "markdown",
      "source": [
        "# Import"
      ],
      "metadata": {
        "id": "ium2_WdcPtJS"
      }
    },
    {
      "cell_type": "code",
      "execution_count": 3,
      "metadata": {
        "colab": {
          "base_uri": "https://localhost:8080/"
        },
        "id": "xzfzhi2RJ4xY",
        "outputId": "2f8a1c0c-466c-4424-cf6d-a1a5e7b34b06"
      },
      "outputs": [
        {
          "output_type": "stream",
          "name": "stdout",
          "text": [
            "Collecting node2vec\n",
            "  Downloading node2vec-0.5.0-py3-none-any.whl.metadata (849 bytes)\n",
            "Collecting network\n",
            "  Downloading network-0.1.tar.gz (2.8 kB)\n",
            "  Preparing metadata (setup.py) ... \u001b[?25l\u001b[?25hdone\n",
            "Requirement already satisfied: gensim<5.0.0,>=4.3.0 in /usr/local/lib/python3.10/dist-packages (from node2vec) (4.3.3)\n",
            "Requirement already satisfied: joblib<2.0.0,>=1.4.0 in /usr/local/lib/python3.10/dist-packages (from node2vec) (1.4.2)\n",
            "Requirement already satisfied: networkx<4.0.0,>=3.1.0 in /usr/local/lib/python3.10/dist-packages (from node2vec) (3.4.1)\n",
            "Requirement already satisfied: numpy<2.0.0,>=1.24.0 in /usr/local/lib/python3.10/dist-packages (from node2vec) (1.26.4)\n",
            "Requirement already satisfied: tqdm<5.0.0,>=4.66.1 in /usr/local/lib/python3.10/dist-packages (from node2vec) (4.66.5)\n",
            "Requirement already satisfied: scipy<1.14.0,>=1.7.0 in /usr/local/lib/python3.10/dist-packages (from gensim<5.0.0,>=4.3.0->node2vec) (1.13.1)\n",
            "Requirement already satisfied: smart-open>=1.8.1 in /usr/local/lib/python3.10/dist-packages (from gensim<5.0.0,>=4.3.0->node2vec) (7.0.5)\n",
            "Requirement already satisfied: wrapt in /usr/local/lib/python3.10/dist-packages (from smart-open>=1.8.1->gensim<5.0.0,>=4.3.0->node2vec) (1.16.0)\n",
            "Downloading node2vec-0.5.0-py3-none-any.whl (7.2 kB)\n",
            "Building wheels for collected packages: network\n",
            "  Building wheel for network (setup.py) ... \u001b[?25l\u001b[?25hdone\n",
            "  Created wheel for network: filename=network-0.1-py3-none-any.whl size=3138 sha256=774ddce1c70dbdad0a411a81c5b0ae524223717b612cb69081be7910fc7d0952\n",
            "  Stored in directory: /root/.cache/pip/wheels/25/97/b1/563d3a70ed8f588bf9cf448f079024a9751b54d15a0ce3d46b\n",
            "Successfully built network\n",
            "Installing collected packages: network, node2vec\n",
            "Successfully installed network-0.1 node2vec-0.5.0\n"
          ]
        }
      ],
      "source": [
        "pip install node2vec network"
      ]
    },
    {
      "cell_type": "code",
      "source": [
        "import networkx as nx\n",
        "from node2vec import Node2Vec\n",
        "import matplotlib.pyplot as plt"
      ],
      "metadata": {
        "id": "gfs3hjgDP7pr"
      },
      "execution_count": 7,
      "outputs": []
    },
    {
      "cell_type": "markdown",
      "source": [
        "# Model\n",
        "1. グラフの作成\n",
        "2. Node2Vecのインスタンス化\n",
        "3. ノードの埋め込みを学習\n",
        "4. ノードの埋め込みを取得\n",
        "5. 近いノードを確認"
      ],
      "metadata": {
        "id": "QhSrXHQ8QK7L"
      }
    },
    {
      "cell_type": "markdown",
      "source": [
        "## 1. グラフの作成"
      ],
      "metadata": {
        "id": "aM5bsa95QZnB"
      }
    },
    {
      "cell_type": "code",
      "source": [
        "# n：ノード数, p：エッジが存在する確率（ノード間にエッジが作成される確率）\n",
        "n = 10\n",
        "p = 0.5\n",
        "Graph = nx.fast_gnp_random_graph(n=n, p=p)"
      ],
      "metadata": {
        "id": "8iP_m91DQKwO"
      },
      "execution_count": 8,
      "outputs": []
    },
    {
      "cell_type": "markdown",
      "source": [
        "### グラフの可視化"
      ],
      "metadata": {
        "id": "YvaIsL1sRKug"
      }
    },
    {
      "cell_type": "code",
      "source": [
        "plt.figure(figsize=(8, 6))\n",
        "nx.draw(Graph, with_labels=True, node_color='lightblue', font_weight='bold', node_size=500)\n",
        "plt.title(f'Random Graph (n={n}, p={p})')\n",
        "plt.show()"
      ],
      "metadata": {
        "colab": {
          "base_uri": "https://localhost:8080/",
          "height": 659
        },
        "id": "-4DE6fhgP_NV",
        "outputId": "65d1cce7-61e0-424d-819a-0228a7039cc1"
      },
      "execution_count": 9,
      "outputs": [
        {
          "output_type": "display_data",
          "data": {
            "text/plain": [
              "<Figure size 800x600 with 1 Axes>"
            ],
            "image/png": "[encoded data removed]"
          },
          "metadata": {}
        }
      ]
    },
    {
      "cell_type": "markdown",
      "source": [
        "## 2. Node2Vecのインスタンス化"
      ],
      "metadata": {
        "id": "tqGzysjvSAih"
      }
    },
    {
      "cell_type": "code",
      "source": [
        "# dimensions：埋め込みベクトルの次元数。各ノードがベクトルとして表現されるときの次元数。\n",
        "# walk_length：1回のランダムウォークで移動するステップ数。ノード間のつながりを探索するときに、どれだけ深くグラフ内を移動するか。\n",
        "# num_walks：各ノードから何回ランダムウォークを行うかを決める。\n",
        "# workers：並列処理に使用するワーカースレッドの数。\n",
        "node2vec = Node2Vec(Graph, dimensions=64, walk_length=30, num_walks=200, workers=4)"
      ],
      "metadata": {
        "colab": {
          "base_uri": "https://localhost:8080/",
          "height": 49,
          "referenced_widgets": [
            "bf464b3340e446009b06fc5c644d407a",
            "61098fd4f3084c4c8cad4bc64880e98e",
            "a072ba763d7c4bac8f3ff0cbe1b7c540",
            "23ac167267584880b3e3564ef1606d22",
            "cfa9f27a91e04a23b3de49974ae15966",
            "a405c20f4c7e40b3a6efc35972462590",
            "08ae6be03ca741f2903a489656bff00b",
            "4cb29a2020dd4a8aaedc4e0a7344e4cd",
            "96e0759541bc469d9d07262586279331",
            "f301df170e4544b1831a4c1fd570dbc8",
            "f460f23d4f1b430f91f0727e8cc89c2e"
          ]
        },
        "id": "ogutiDYcSAd_",
        "outputId": "97ef4a08-6d84-4b61-f5e8-72ad693a1f3f"
      },
      "execution_count": 11,
      "outputs": [
        {
          "output_type": "display_data",
          "data": {
            "text/plain": [
              "Computing transition probabilities:   0%|          | 0/10 [00:00<?, ?it/s]"
            ],
            "application/vnd.jupyter.widget-view+json": {
              "version_major": 2,
              "version_minor": 0,
              "model_id": "bf464b3340e446009b06fc5c644d407a"
            }
          },
          "metadata": {}
        }
      ]
    },
    {
      "cell_type": "markdown",
      "source": [
        "## 3. ノードの埋め込みを学習"
      ],
      "metadata": {
        "id": "vVEXga2yS_kK"
      }
    },
    {
      "cell_type": "code",
      "source": [
        "# window：Skip-Gramモデルにおけるコンテキストウィンドウのサイズ。埋め込みベクトルを学習する際、ノードがどの程度の近傍ノードとの関係性を考慮するかを決める。\n",
        "# min_count：埋め込みを学習する際に、無視する最小頻度のノード。頻度が低すぎるノード（つながりが少ないノード）は無視される。\n",
        "# batch_words：1バッチあたりに処理する単語数（学習時のバッチサイズ）\n",
        "model = node2vec.fit(window=10, min_count=1, batch_words=4)"
      ],
      "metadata": {
        "id": "8ObyVndmS5wy"
      },
      "execution_count": 12,
      "outputs": []
    },
    {
      "cell_type": "markdown",
      "source": [
        "## 4. ノードの埋め込みを取得"
      ],
      "metadata": {
        "id": "2L5XwrwhT_Qc"
      }
    },
    {
      "cell_type": "code",
      "source": [
        "node_id = 1 # ノード1に対する埋め込みを取得\n",
        "embedding = model.wv[str(node_id)]\n",
        "print(f'ノード{node_id}の埋め込みベクトル：{embedding}')"
      ],
      "metadata": {
        "colab": {
          "base_uri": "https://localhost:8080/"
        },
        "id": "P9EkijLjT6wL",
        "outputId": "3541cab7-ad21-45d1-d058-31f15b0f71a5"
      },
      "execution_count": 13,
      "outputs": [
        {
          "output_type": "stream",
          "name": "stdout",
          "text": [
            "ノード1の埋め込みベクトル：[-0.06638395 -0.09282146  0.21184173  0.2538888  -0.07747567 -0.25190744\n",
            "  0.0790524   0.12721083 -0.13273163 -0.18962775  0.19117112  0.04693736\n",
            "  0.09512943 -0.00962228 -0.06279436 -0.04013361 -0.10787155  0.09708589\n",
            " -0.01104558  0.02283026  0.10614716  0.1373572   0.24804193 -0.09423552\n",
            "  0.14830655  0.18178515 -0.06213645  0.13111648 -0.11374174 -0.01190754\n",
            "  0.01039253 -0.0913841  -0.09739385 -0.24869741  0.06968312  0.0316515\n",
            " -0.03741587  0.01030886  0.24796025 -0.07097062 -0.05008339  0.09717006\n",
            " -0.12501903 -0.10410243  0.03989496 -0.09085611  0.002825   -0.01547281\n",
            "  0.00990059  0.08843426  0.0750328   0.04174952 -0.07402205  0.21273509\n",
            "  0.12573405 -0.12132361 -0.06103407 -0.17134047 -0.05057935  0.08204702\n",
            " -0.03262223 -0.14172544 -0.17678803 -0.11796717]\n"
          ]
        }
      ]
    },
    {
      "cell_type": "markdown",
      "source": [
        "## 5. 近いノードを確認"
      ],
      "metadata": {
        "id": "DeAtrXizUPHa"
      }
    },
    {
      "cell_type": "code",
      "source": [
        "similar_nodes = model.wv.most_similar(str(node_id))\n",
        "print(f'ノード{node_id}に類似したノード：{similar_nodes}')"
      ],
      "metadata": {
        "colab": {
          "base_uri": "https://localhost:8080/"
        },
        "id": "bkQMcPZyUOCC",
        "outputId": "25a3274d-505f-4c98-b98b-1f631a032ba2"
      },
      "execution_count": 14,
      "outputs": [
        {
          "output_type": "stream",
          "name": "stdout",
          "text": [
            "ノード1に類似したノード：[('4', 0.9430314302444458), ('2', 0.9339926838874817), ('0', 0.9077131748199463), ('9', 0.9018140435218811), ('8', 0.8874400854110718), ('7', 0.8516935110092163), ('6', 0.8417357802391052), ('3', 0.8326737880706787), ('5', 0.8254855275154114)]\n"
          ]
        }
      ]
    },
    {
      "cell_type": "code",
      "source": [],
      "metadata": {
        "id": "YeD7XxpZUcPq"
      },
      "execution_count": null,
      "outputs": []
    }
  ]
}