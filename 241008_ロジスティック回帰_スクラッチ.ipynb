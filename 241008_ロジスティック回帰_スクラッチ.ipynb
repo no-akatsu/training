{
  "nbformat": 4,
  "nbformat_minor": 0,
  "metadata": {
    "colab": {
      "provenance": [],
      "authorship_tag": "ABX9TyOSySKQLJJbfTM5tii/8hyw",
      "include_colab_link": true
    },
    "kernelspec": {
      "name": "python3",
      "display_name": "Python 3"
    },
    "language_info": {
      "name": "python"
    }
  },
  "cells": [
    {
      "cell_type": "markdown",
      "metadata": {
        "id": "view-in-github",
        "colab_type": "text"
      },
      "source": [
        "<a href=\"https://colab.research.google.com/github/no-akatsu/training/blob/main/241008_%E3%83%AD%E3%82%B8%E3%82%B9%E3%83%86%E3%82%A3%E3%83%83%E3%82%AF%E5%9B%9E%E5%B8%B0_%E3%82%B9%E3%82%AF%E3%83%A9%E3%83%83%E3%83%81.ipynb\" target=\"_parent\"><img src=\"https://colab.research.google.com/assets/colab-badge.svg\" alt=\"Open In Colab\"/></a>"
      ]
    },
    {
      "cell_type": "markdown",
      "source": [
        "# Import"
      ],
      "metadata": {
        "id": "0G6ZdCD4KkJh"
      }
    },
    {
      "cell_type": "code",
      "source": [
        "pip install japanize-matplotlib"
      ],
      "metadata": {
        "colab": {
          "base_uri": "https://localhost:8080/"
        },
        "id": "o8nBvPYYOiGt",
        "outputId": "34ac96a0-2ba8-464c-981b-cabad64c4e66"
      },
      "execution_count": 9,
      "outputs": [
        {
          "output_type": "stream",
          "name": "stdout",
          "text": [
            "Collecting japanize-matplotlib\n",
            "  Downloading japanize-matplotlib-1.1.3.tar.gz (4.1 MB)\n",
            "\u001b[2K     \u001b[90m━━━━━━━━━━━━━━━━━━━━━━━━━━━━━━━━━━━━━━━━\u001b[0m \u001b[32m4.1/4.1 MB\u001b[0m \u001b[31m19.0 MB/s\u001b[0m eta \u001b[36m0:00:00\u001b[0m\n",
            "\u001b[?25h  Preparing metadata (setup.py) ... \u001b[?25l\u001b[?25hdone\n",
            "Requirement already satisfied: matplotlib in /usr/local/lib/python3.10/dist-packages (from japanize-matplotlib) (3.7.1)\n",
            "Requirement already satisfied: contourpy>=1.0.1 in /usr/local/lib/python3.10/dist-packages (from matplotlib->japanize-matplotlib) (1.3.0)\n",
            "Requirement already satisfied: cycler>=0.10 in /usr/local/lib/python3.10/dist-packages (from matplotlib->japanize-matplotlib) (0.12.1)\n",
            "Requirement already satisfied: fonttools>=4.22.0 in /usr/local/lib/python3.10/dist-packages (from matplotlib->japanize-matplotlib) (4.54.1)\n",
            "Requirement already satisfied: kiwisolver>=1.0.1 in /usr/local/lib/python3.10/dist-packages (from matplotlib->japanize-matplotlib) (1.4.7)\n",
            "Requirement already satisfied: numpy>=1.20 in /usr/local/lib/python3.10/dist-packages (from matplotlib->japanize-matplotlib) (1.26.4)\n",
            "Requirement already satisfied: packaging>=20.0 in /usr/local/lib/python3.10/dist-packages (from matplotlib->japanize-matplotlib) (24.1)\n",
            "Requirement already satisfied: pillow>=6.2.0 in /usr/local/lib/python3.10/dist-packages (from matplotlib->japanize-matplotlib) (10.4.0)\n",
            "Requirement already satisfied: pyparsing>=2.3.1 in /usr/local/lib/python3.10/dist-packages (from matplotlib->japanize-matplotlib) (3.1.4)\n",
            "Requirement already satisfied: python-dateutil>=2.7 in /usr/local/lib/python3.10/dist-packages (from matplotlib->japanize-matplotlib) (2.8.2)\n",
            "Requirement already satisfied: six>=1.5 in /usr/local/lib/python3.10/dist-packages (from python-dateutil>=2.7->matplotlib->japanize-matplotlib) (1.16.0)\n",
            "Building wheels for collected packages: japanize-matplotlib\n",
            "  Building wheel for japanize-matplotlib (setup.py) ... \u001b[?25l\u001b[?25hdone\n",
            "  Created wheel for japanize-matplotlib: filename=japanize_matplotlib-1.1.3-py3-none-any.whl size=4120257 sha256=e9f3baac060f208b4e99f928643eb2b9b751936bf904ca01f01c522c773c85fc\n",
            "  Stored in directory: /root/.cache/pip/wheels/61/7a/6b/df1f79be9c59862525070e157e62b08eab8ece27c1b68fbb94\n",
            "Successfully built japanize-matplotlib\n",
            "Installing collected packages: japanize-matplotlib\n",
            "Successfully installed japanize-matplotlib-1.1.3\n"
          ]
        }
      ]
    },
    {
      "cell_type": "code",
      "execution_count": 11,
      "metadata": {
        "id": "GuUvkWtUCanF"
      },
      "outputs": [],
      "source": [
        "import numpy as np\n",
        "import matplotlib.pyplot as plt\n",
        "import japanize_matplotlib\n",
        "from sklearn.datasets import load_iris\n",
        "from sklearn.model_selection import train_test_split\n",
        "from sklearn.preprocessing import StandardScaler"
      ]
    },
    {
      "cell_type": "markdown",
      "source": [
        "# Model"
      ],
      "metadata": {
        "id": "OZfr8G0SKmpN"
      }
    },
    {
      "cell_type": "code",
      "source": [
        "# ロジスティック回帰クラスの定義\n",
        "class LogisticRegression:\n",
        "    def __init__(self, lr=0.01, epochs=1000):\n",
        "        self.lr = lr # 学習率\n",
        "        self.epochs = epochs # エポック数\n",
        "        self.W = None # 重み\n",
        "        self.b = None # バイアス\n",
        "\n",
        "    def sigmoid(self, z):\n",
        "        return 1 / (1 + np.exp(-z)) # シグモイド関数\n",
        "\n",
        "    def fit(self, X, y):\n",
        "        n_samples, n_features = X.shape\n",
        "        self.W = np.zeros(n_features) # 重みの初期化\n",
        "        self.b = 0 # バイアスの初期化\n",
        "\n",
        "        # トレーニングループ\n",
        "        for epoch in range(self.epochs):\n",
        "            # 線形結合\n",
        "            linear_model = np.dot(X, self.W) + self.b\n",
        "\n",
        "            # シグモイド関数を通して予測値を得る\n",
        "            y_predicted = self.sigmoid(linear_model)\n",
        "\n",
        "            # 勾配の計算\n",
        "            dw = (1/n_samples) * np.dot(X.T, (y_predicted - y))\n",
        "            db = (1/n_samples) * np.sum(y_predicted - y)\n",
        "\n",
        "            # 重みとバイアスの更新\n",
        "            self.W -= self.lr * dw\n",
        "            self.b -= self.lr * db\n",
        "\n",
        "    def predict(self, X):\n",
        "        linear_model = np.dot(X, self.W) + self.b\n",
        "        y_predicted = self.sigmoid(linear_model)\n",
        "        return np.where(y_predicted >= 0.5, 1, 0) # 閾値でクラスを決定"
      ],
      "metadata": {
        "id": "Z_8BwDFoKRVS"
      },
      "execution_count": 12,
      "outputs": []
    },
    {
      "cell_type": "code",
      "source": [
        "# Irisデータ\n",
        "iris = load_iris()\n",
        "X = iris.data[iris.target != 2] # 2種類の花(setosaとversicolor)のみを選択\n",
        "y = iris.target[iris.target != 2] # 0または1のラベル\n",
        "\n",
        "# データをトレーニングセットとテストセットに分割\n",
        "X_train, X_test, y_train, y_test = train_test_split(X, y, test_size=0.2, random_state=42)\n",
        "\n",
        "# 特徴量のスケーリング\n",
        "scaler = StandardScaler()\n",
        "X_train = scaler.fit_transform(X_train)\n",
        "X_test = scaler.transform(X_test)\n",
        "\n",
        "# モデルの作成と学習\n",
        "model = LogisticRegression(lr=0.1, epochs=1000)\n",
        "model.fit(X_train, y_train)\n",
        "\n",
        "# 学習後の重みとバイアス\n",
        "print('学習された重み（W）', model.W)\n",
        "print('学習されたバイアス（b）', model.b)\n",
        "\n",
        "y_pred = model.predict(X_test)\n",
        "accuracy = np.mean(y_pred)\n",
        "print('Accuracy', accuracy)"
      ],
      "metadata": {
        "colab": {
          "base_uri": "https://localhost:8080/"
        },
        "id": "7VrPrxKGKamC",
        "outputId": "fbd73ecc-70f2-493b-adfe-2cefdf1b2639"
      },
      "execution_count": 13,
      "outputs": [
        {
          "output_type": "stream",
          "name": "stdout",
          "text": [
            "学習された重み（W） [ 1.1454959  -1.60267015  2.05590275  2.07887442]\n",
            "学習されたバイアス（b） 0.37318583074019557\n",
            "Accuracy 0.4\n"
          ]
        }
      ]
    },
    {
      "cell_type": "code",
      "source": [
        "# 結果のプロット\n",
        "plt.scatter(X_test[:, 0], X_test[:, 1], c=y_test, cmap='viridis', label='実際のラベル')\n",
        "plt.scatter(X_test[:, 0], X_test[:, 1], c=y_pred, cmap='coolwarm', marker='x', label='予測ラベル')\n",
        "plt.xlabel('特徴量1')\n",
        "plt.ylabel('特徴量2')\n",
        "plt.legend()\n",
        "plt.show()"
      ],
      "metadata": {
        "colab": {
          "base_uri": "https://localhost:8080/",
          "height": 447
        },
        "id": "kC7jIYHTNfl_",
        "outputId": "4b3f212d-61e4-4586-d7d3-2e996528e92a"
      },
      "execution_count": 14,
      "outputs": [
        {
          "output_type": "display_data",
          "data": {
            "text/plain": [
              "<Figure size 640x480 with 1 Axes>"
            ],
            "image/png": "[encoded data removed]"
          },
          "metadata": {}
        }
      ]
    },
    {
      "cell_type": "code",
      "source": [],
      "metadata": {
        "id": "8MP-w4IxOfHf"
      },
      "execution_count": null,
      "outputs": []
    }
  ]
}