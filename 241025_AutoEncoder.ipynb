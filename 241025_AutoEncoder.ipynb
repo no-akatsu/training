{
  "nbformat": 4,
  "nbformat_minor": 0,
  "metadata": {
    "colab": {
      "provenance": [],
      "authorship_tag": "ABX9TyMsL6BkLl9ewxPqEl1ZlLga",
      "include_colab_link": true
    },
    "kernelspec": {
      "name": "python3",
      "display_name": "Python 3"
    },
    "language_info": {
      "name": "python"
    }
  },
  "cells": [
    {
      "cell_type": "markdown",
      "metadata": {
        "id": "view-in-github",
        "colab_type": "text"
      },
      "source": [
        "<a href=\"https://colab.research.google.com/github/no-akatsu/training/blob/main/241025_AutoEncoder.ipynb\" target=\"_parent\"><img src=\"https://colab.research.google.com/assets/colab-badge.svg\" alt=\"Open In Colab\"/></a>"
      ]
    },
    {
      "cell_type": "markdown",
      "source": [
        "# Import"
      ],
      "metadata": {
        "id": "Kk68Fvh2Moqc"
      }
    },
    {
      "cell_type": "code",
      "execution_count": 1,
      "metadata": {
        "id": "Z5MYw3RZMi7Y"
      },
      "outputs": [],
      "source": [
        "import pandas as pd\n",
        "import numpy as np\n",
        "\n",
        "import torch\n",
        "import torch.nn as nn\n",
        "import torch.optim as optim"
      ]
    },
    {
      "cell_type": "markdown",
      "source": [
        "# Model"
      ],
      "metadata": {
        "id": "MOJmrxYmM0KK"
      }
    },
    {
      "cell_type": "code",
      "source": [
        "# シンプルなAutoEncoder\n",
        "class SimpleAutoencoder(nn.Module):\n",
        "    def __init__(self, input_dim, hidden_dim):\n",
        "        super(SimpleAutoencoder, self).__init__()\n",
        "\n",
        "        # Encoder\n",
        "        self.encoder = nn.Sequential(\n",
        "            nn.Linear(input_dim, hidden_dim),\n",
        "            nn.ReLU()\n",
        "        )\n",
        "\n",
        "        # Decoder\n",
        "        self.decoder = nn.Sequential(\n",
        "            nn.Linear(hidden_dim, input_dim),\n",
        "            nn.Sigmoid() # 出力を0-1の範囲に制限\n",
        "        )\n",
        "\n",
        "    def forward(self, x):\n",
        "        encoded = self.encoder(x)\n",
        "        decoded = self.decoder(encoded)\n",
        "        return decoded"
      ],
      "metadata": {
        "id": "M7Dm0Xk8Mx89"
      },
      "execution_count": 8,
      "outputs": []
    },
    {
      "cell_type": "markdown",
      "source": [
        "# Data\n",
        "- InputデータにOnehotを想定"
      ],
      "metadata": {
        "id": "lQfqALsvN9K5"
      }
    },
    {
      "cell_type": "code",
      "source": [
        "category_data = torch.tensor(\n",
        "    [[1, 0, 0, 0],\n",
        "     [0, 1, 0, 0],\n",
        "     [0, 0, 1, 0],\n",
        "     [0, 0, 0, 1]], dtype=torch.float32)"
      ],
      "metadata": {
        "id": "wg80T0OAM4Nk"
      },
      "execution_count": 9,
      "outputs": []
    },
    {
      "cell_type": "markdown",
      "source": [
        "# Training"
      ],
      "metadata": {
        "id": "2d0hh1BIORav"
      }
    },
    {
      "cell_type": "code",
      "source": [
        "input_dim = category_data.shape[1]\n",
        "hidden_dim = 2\n",
        "\n",
        "model = SimpleAutoencoder(input_dim, hidden_dim)\n",
        "\n",
        "# 最適化手法と損失関数の定義\n",
        "optimizer = optim.Adam(model.parameters(), lr=0.01)\n",
        "loss_fn = nn.MSELoss()\n",
        "\n",
        "# 学習ループ\n",
        "for epoch in range(1000):\n",
        "    optimizer.zero_grad()\n",
        "    output = model(category_data)\n",
        "    loss = loss_fn(output, category_data)\n",
        "    loss.backward()\n",
        "    optimizer.step()\n",
        "\n",
        "    if (epoch + 1) % 100 == 0:\n",
        "        print(f'Epoch {epoch + 1}, Loss: {loss.item():.4f}')\n",
        "\n",
        "# 学習後にエンコードされたベクトルを確認\n",
        "with torch.no_grad():\n",
        "    encoded_data = model.encoder(category_data)\n",
        "    print(encoded_data)"
      ],
      "metadata": {
        "colab": {
          "base_uri": "https://localhost:8080/"
        },
        "id": "XwzSEHW2ONJI",
        "outputId": "9e5b1575-8043-4fba-9df9-176f8ca270fa"
      },
      "execution_count": 11,
      "outputs": [
        {
          "output_type": "stream",
          "name": "stdout",
          "text": [
            "Epoch 100, Loss: 0.0870\n",
            "Epoch 200, Loss: 0.0343\n",
            "Epoch 300, Loss: 0.0166\n",
            "Epoch 400, Loss: 0.0097\n",
            "Epoch 500, Loss: 0.0064\n",
            "Epoch 600, Loss: 0.0045\n",
            "Epoch 700, Loss: 0.0034\n",
            "Epoch 800, Loss: 0.0026\n",
            "Epoch 900, Loss: 0.0021\n",
            "Epoch 1000, Loss: 0.0017\n",
            "tensor([[0.0000, 0.0000],\n",
            "        [0.0000, 2.4478],\n",
            "        [2.5139, 0.0000],\n",
            "        [4.7702, 5.0890]])\n"
          ]
        }
      ]
    },
    {
      "cell_type": "code",
      "source": [],
      "metadata": {
        "id": "fWTQdxRFPYpt"
      },
      "execution_count": null,
      "outputs": []
    }
  ]
}