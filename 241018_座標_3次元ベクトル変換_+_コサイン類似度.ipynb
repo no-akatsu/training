{
  "nbformat": 4,
  "nbformat_minor": 0,
  "metadata": {
    "colab": {
      "provenance": [],
      "authorship_tag": "ABX9TyMMy/UY49tjKTLhXDJyIXNm",
      "include_colab_link": true
    },
    "kernelspec": {
      "name": "python3",
      "display_name": "Python 3"
    },
    "language_info": {
      "name": "python"
    }
  },
  "cells": [
    {
      "cell_type": "markdown",
      "metadata": {
        "id": "view-in-github",
        "colab_type": "text"
      },
      "source": [
        "<a href=\"https://colab.research.google.com/github/no-akatsu/training/blob/main/241018_%E5%BA%A7%E6%A8%99_3%E6%AC%A1%E5%85%83%E3%83%99%E3%82%AF%E3%83%88%E3%83%AB%E5%A4%89%E6%8F%9B_%2B_%E3%82%B3%E3%82%B5%E3%82%A4%E3%83%B3%E9%A1%9E%E4%BC%BC%E5%BA%A6.ipynb\" target=\"_parent\"><img src=\"https://colab.research.google.com/assets/colab-badge.svg\" alt=\"Open In Colab\"/></a>"
      ]
    },
    {
      "cell_type": "markdown",
      "source": [
        "# import"
      ],
      "metadata": {
        "id": "hfEMyr04NAlh"
      }
    },
    {
      "cell_type": "code",
      "source": [
        "import numpy as np\n",
        "import pandas as pd"
      ],
      "metadata": {
        "id": "5oqQwGUENBXv"
      },
      "execution_count": 18,
      "outputs": []
    },
    {
      "cell_type": "markdown",
      "source": [
        "# data\n",
        "- 東京、北海道、青森、ロサンゼルスの緯度・経度"
      ],
      "metadata": {
        "id": "4ZTJO84WNCpQ"
      }
    },
    {
      "cell_type": "code",
      "source": [
        "tokyo_lat, tokyo_lon = 35.01833, 139.5986\n",
        "hokkaido_lat, hokkaido_lon = 43.46722, 142.8278\n",
        "aomori_lat, aomori_lon = 40.78028, 140.8319\n",
        "los_lat, los_lon = 34.0522, -118.2437"
      ],
      "metadata": {
        "id": "T022z9DUGikc"
      },
      "execution_count": 3,
      "outputs": []
    },
    {
      "cell_type": "markdown",
      "source": [
        "# 緯度・経度を3次元ベクトルに変換する関数\n",
        "- $x=r*cos(ϕ)*cos(λ)$\n",
        "- $y=r*cos(ϕ)*sin(λ)$\n",
        "- $z=r*sin(ϕ)$"
      ],
      "metadata": {
        "id": "DZTxnExaNU-m"
      }
    },
    {
      "cell_type": "code",
      "source": [
        "# radiusは地球の半径[km]\n",
        "def coordinate_to_vector(lat, lon, radius=6371):\n",
        "    lat, lon = np.radians(lat), np.radians(lon)\n",
        "    x = radius * np.cos(lat) * np.cos(lon)\n",
        "    y = radius * np.cos(lat) * np.sin(lon)\n",
        "    z = radius * np.sin(lat)\n",
        "    return np.array([x, y, z])"
      ],
      "metadata": {
        "id": "hytLIudjNU4p"
      },
      "execution_count": 4,
      "outputs": []
    },
    {
      "cell_type": "markdown",
      "source": [
        "# コサイン類似度を計算する関数\n",
        "- $\\frac{vec1⋅vec2}{||vec1||*||vec2|}$"
      ],
      "metadata": {
        "id": "nFU04bW8PNcC"
      }
    },
    {
      "cell_type": "code",
      "source": [
        "def cosine_similarity(vec1, vec2):\n",
        "    dot_product = np.dot(vec1, vec2)\n",
        "    norm_vec1 = np.linalg.norm(vec1)\n",
        "    norm_vec2 = np.linalg.norm(vec2)\n",
        "    return dot_product / (norm_vec1 * norm_vec2)"
      ],
      "metadata": {
        "id": "rl4ZbQ7JPMmY"
      },
      "execution_count": 5,
      "outputs": []
    },
    {
      "cell_type": "markdown",
      "source": [
        "# 2次元座標と3次元座標での類似度比較"
      ],
      "metadata": {
        "id": "Yrj4XwOEQShi"
      }
    },
    {
      "cell_type": "code",
      "source": [
        "# 緯度・経度を3次元ベクトルへ変換\n",
        "vec_tokyo = coordinate_to_vector(tokyo_lat, tokyo_lon)\n",
        "vec_hokkaido = coordinate_to_vector(hokkaido_lat, hokkaido_lon)\n",
        "vec_aomori = coordinate_to_vector(aomori_lat, los_lon)\n",
        "vec_los = coordinate_to_vector(los_lat, los_lon)\n",
        "\n",
        "print('東京', vec_tokyo)\n",
        "print('北海道', vec_hokkaido)\n",
        "print('青森', vec_aomori)\n",
        "print('ロサンゼルス', vec_los)"
      ],
      "metadata": {
        "colab": {
          "base_uri": "https://localhost:8080/"
        },
        "id": "dbZwz0K4HCqV",
        "outputId": "1fa71261-d079-4789-a6a6-f87cde10364a"
      },
      "execution_count": 7,
      "outputs": [
        {
          "output_type": "stream",
          "name": "stdout",
          "text": [
            "東京 [-3973.35645684  3381.75881556  3655.92488712]\n",
            "北海道 [-3684.40550127  2793.79938727  4382.86231656]\n",
            "青森 [-2282.94417738 -4249.88644023  4161.28251001]\n",
            "ロサンゼルス [-2497.93043676 -4650.10086406  3567.4285539 ]\n"
          ]
        }
      ]
    },
    {
      "cell_type": "code",
      "source": [
        "# 3次元ベクトル\n",
        "sim_tokyo_los = cosine_similarity(vec_tokyo, vec_los)\n",
        "sim_tokyo_hokkaido = cosine_similarity(vec_tokyo, vec_hokkaido)\n",
        "sim_tokyo_aomori = cosine_similarity(vec_tokyo, vec_aomori)\n",
        "sim_hokkaido_aomori = cosine_similarity(vec_hokkaido, vec_aomori)\n",
        "sim_hokkaido_los = cosine_similarity(vec_hokkaido, vec_los)\n",
        "\n",
        "three_dim_data = [sim_tokyo_los, sim_tokyo_hokkaido, sim_tokyo_aomori, sim_hokkaido_aomori, sim_hokkaido_los]\n",
        "\n",
        "print('東京-ロサンゼルス　:', sim_tokyo_los)\n",
        "print('東京-北海道　　　　:', sim_tokyo_hokkaido)\n",
        "print('東京-青森　　　　　:', sim_tokyo_aomori)\n",
        "print('北海道-青森　　　　:', sim_hokkaido_aomori)\n",
        "print('北海道-ロサンゼルス:', sim_hokkaido_los)"
      ],
      "metadata": {
        "colab": {
          "base_uri": "https://localhost:8080/"
        },
        "id": "aKP04PJiJLpU",
        "outputId": "7df5f624-76b1-44b2-cf7d-2a5a57b0bcd9"
      },
      "execution_count": 13,
      "outputs": [
        {
          "output_type": "stream",
          "name": "stdout",
          "text": [
            "東京-ロサンゼルス　: 0.17841742607676475\n",
            "東京-北海道　　　　: 0.9882035545676177\n",
            "東京-青森　　　　　: 0.24420507548008702\n",
            "北海道-青森　　　　: 0.36404092007618993\n",
            "北海道-ロサンゼルス: 0.291884519848628\n"
          ]
        }
      ]
    },
    {
      "cell_type": "code",
      "source": [
        "# 2次元ベクトル\n",
        "# コサイン類似度を計算\n",
        "sim_tokyo_los = cosine_similarity([tokyo_lat, tokyo_lon], [los_lat, los_lon])\n",
        "sim_tokyo_hokkaido = cosine_similarity([tokyo_lat, tokyo_lon], [hokkaido_lat, hokkaido_lon])\n",
        "sim_tokyo_aomori = cosine_similarity([tokyo_lat, tokyo_lon], [aomori_lat, aomori_lon])\n",
        "sim_hokkaido_aomori = cosine_similarity([hokkaido_lat, hokkaido_lon], [aomori_lat, aomori_lon])\n",
        "sim_hokkaido_los = cosine_similarity([hokkaido_lat, hokkaido_lon], [los_lat, los_lon])\n",
        "\n",
        "two_dim_data = [sim_tokyo_los, sim_tokyo_hokkaido, sim_tokyo_aomori, sim_hokkaido_aomori, sim_hokkaido_los]\n",
        "\n",
        "print('東京-ロサンゼルス　:', sim_tokyo_los)\n",
        "print('東京-北海道　　　　:', sim_tokyo_hokkaido)\n",
        "print('東京-青森　　　　　:', sim_tokyo_aomori)\n",
        "print('北海道-青森　　　　:', sim_hokkaido_aomori)\n",
        "print('北海道-ロサンゼルス:', sim_hokkaido_los)"
      ],
      "metadata": {
        "colab": {
          "base_uri": "https://localhost:8080/"
        },
        "id": "pVti3-_vJq5k",
        "outputId": "9f938481-e976-4bdd-d181-57ea82c33ce0"
      },
      "execution_count": 15,
      "outputs": [
        {
          "output_type": "stream",
          "name": "stdout",
          "text": [
            "東京-ロサンゼルス　: -0.8647345558791522\n",
            "東京-北海道　　　　: 0.9987677580431721\n",
            "東京-青森　　　　　: 0.9993492097463185\n",
            "北海道-青森　　　　: 0.9999079386348672\n",
            "北海道-ロサンゼルス: -0.8387442268291957\n"
          ]
        }
      ]
    },
    {
      "cell_type": "markdown",
      "source": [
        "# データ確認"
      ],
      "metadata": {
        "id": "CihY1B99TFCc"
      }
    },
    {
      "cell_type": "code",
      "source": [
        "df = pd.DataFrame(data=[three_dim_data, two_dim_data], index=['three_dim_data', 'two_dim_data'], columns=['東京-ロサンゼルス', '東京-北海道', '東京-青森', '北海道-青森', '北海道-ロサンゼルス']).T\n",
        "df"
      ],
      "metadata": {
        "colab": {
          "base_uri": "https://localhost:8080/",
          "height": 206
        },
        "id": "smOrUGE9SKh_",
        "outputId": "3eb12d85-74b1-4eef-e7c5-4828ebac9267"
      },
      "execution_count": 31,
      "outputs": [
        {
          "output_type": "execute_result",
          "data": {
            "text/plain": [
              "            three_dim_data  two_dim_data\n",
              "東京-ロサンゼルス         0.178417     -0.864735\n",
              "東京-北海道            0.988204      0.998768\n",
              "東京-青森             0.244205      0.999349\n",
              "北海道-青森            0.364041      0.999908\n",
              "北海道-ロサンゼルス        0.291885     -0.838744"
            ],
            "text/html": [
              "\n",
              "  <div id=\"df-eef54749-4a6a-4898-84ef-38756c3de14c\" class=\"colab-df-container\">\n",
              "    <div>\n",
              "<style scoped>\n",
              "    .dataframe tbody tr th:only-of-type {\n",
              "        vertical-align: middle;\n",
              "    }\n",
              "\n",
              "    .dataframe tbody tr th {\n",
              "        vertical-align: top;\n",
              "    }\n",
              "\n",
              "    .dataframe thead th {\n",
              "        text-align: right;\n",
              "    }\n",
              "</style>\n",
              "<table border=\"1\" class=\"dataframe\">\n",
              "  <thead>\n",
              "    <tr style=\"text-align: right;\">\n",
              "      <th></th>\n",
              "      <th>three_dim_data</th>\n",
              "      <th>two_dim_data</th>\n",
              "    </tr>\n",
              "  </thead>\n",
              "  <tbody>\n",
              "    <tr>\n",
              "      <th>東京-ロサンゼルス</th>\n",
              "      <td>0.178417</td>\n",
              "      <td>-0.864735</td>\n",
              "    </tr>\n",
              "    <tr>\n",
              "      <th>東京-北海道</th>\n",
              "      <td>0.988204</td>\n",
              "      <td>0.998768</td>\n",
              "    </tr>\n",
              "    <tr>\n",
              "      <th>東京-青森</th>\n",
              "      <td>0.244205</td>\n",
              "      <td>0.999349</td>\n",
              "    </tr>\n",
              "    <tr>\n",
              "      <th>北海道-青森</th>\n",
              "      <td>0.364041</td>\n",
              "      <td>0.999908</td>\n",
              "    </tr>\n",
              "    <tr>\n",
              "      <th>北海道-ロサンゼルス</th>\n",
              "      <td>0.291885</td>\n",
              "      <td>-0.838744</td>\n",
              "    </tr>\n",
              "  </tbody>\n",
              "</table>\n",
              "</div>\n",
              "    <div class=\"colab-df-buttons\">\n",
              "\n",
              "  <div class=\"colab-df-container\">\n",
              "    <button class=\"colab-df-convert\" onclick=\"convertToInteractive('df-eef54749-4a6a-4898-84ef-38756c3de14c')\"\n",
              "            title=\"Convert this dataframe to an interactive table.\"\n",
              "            style=\"display:none;\">\n",
              "\n",
              "  <svg xmlns=\"http://www.w3.org/2000/svg\" height=\"24px\" viewBox=\"0 -960 960 960\">\n",
              "    <path d=\"M120-120v-720h720v720H120Zm60-500h600v-160H180v160Zm220 220h160v-160H400v160Zm0 220h160v-160H400v160ZM180-400h160v-160H180v160Zm440 0h160v-160H620v160ZM180-180h160v-160H180v160Zm440 0h160v-160H620v160Z\"/>\n",
              "  </svg>\n",
              "    </button>\n",
              "\n",
              "  <style>\n",
              "    .colab-df-container {\n",
              "      display:flex;\n",
              "      gap: 12px;\n",
              "    }\n",
              "\n",
              "    .colab-df-convert {\n",
              "      background-color: #E8F0FE;\n",
              "      border: none;\n",
              "      border-radius: 50%;\n",
              "      cursor: pointer;\n",
              "      display: none;\n",
              "      fill: #1967D2;\n",
              "      height: 32px;\n",
              "      padding: 0 0 0 0;\n",
              "      width: 32px;\n",
              "    }\n",
              "\n",
              "    .colab-df-convert:hover {\n",
              "      background-color: #E2EBFA;\n",
              "      box-shadow: 0px 1px 2px rgba(60, 64, 67, 0.3), 0px 1px 3px 1px rgba(60, 64, 67, 0.15);\n",
              "      fill: #174EA6;\n",
              "    }\n",
              "\n",
              "    .colab-df-buttons div {\n",
              "      margin-bottom: 4px;\n",
              "    }\n",
              "\n",
              "    [theme=dark] .colab-df-convert {\n",
              "      background-color: #3B4455;\n",
              "      fill: #D2E3FC;\n",
              "    }\n",
              "\n",
              "    [theme=dark] .colab-df-convert:hover {\n",
              "      background-color: #434B5C;\n",
              "      box-shadow: 0px 1px 3px 1px rgba(0, 0, 0, 0.15);\n",
              "      filter: drop-shadow(0px 1px 2px rgba(0, 0, 0, 0.3));\n",
              "      fill: #FFFFFF;\n",
              "    }\n",
              "  </style>\n",
              "\n",
              "    <script>\n",
              "      const buttonEl =\n",
              "        document.querySelector('#df-eef54749-4a6a-4898-84ef-38756c3de14c button.colab-df-convert');\n",
              "      buttonEl.style.display =\n",
              "        google.colab.kernel.accessAllowed ? 'block' : 'none';\n",
              "\n",
              "      async function convertToInteractive(key) {\n",
              "        const element = document.querySelector('#df-eef54749-4a6a-4898-84ef-38756c3de14c');\n",
              "        const dataTable =\n",
              "          await google.colab.kernel.invokeFunction('convertToInteractive',\n",
              "                                                    [key], {});\n",
              "        if (!dataTable) return;\n",
              "\n",
              "        const docLinkHtml = 'Like what you see? Visit the ' +\n",
              "          '<a target=\"_blank\" href=https://colab.research.google.com/notebooks/data_table.ipynb>data table notebook</a>'\n",
              "          + ' to learn more about interactive tables.';\n",
              "        element.innerHTML = '';\n",
              "        dataTable['output_type'] = 'display_data';\n",
              "        await google.colab.output.renderOutput(dataTable, element);\n",
              "        const docLink = document.createElement('div');\n",
              "        docLink.innerHTML = docLinkHtml;\n",
              "        element.appendChild(docLink);\n",
              "      }\n",
              "    </script>\n",
              "  </div>\n",
              "\n",
              "\n",
              "<div id=\"df-85b78853-e7d6-4fa2-8a72-dd33c8c29dd2\">\n",
              "  <button class=\"colab-df-quickchart\" onclick=\"quickchart('df-85b78853-e7d6-4fa2-8a72-dd33c8c29dd2')\"\n",
              "            title=\"Suggest charts\"\n",
              "            style=\"display:none;\">\n",
              "\n",
              "<svg xmlns=\"http://www.w3.org/2000/svg\" height=\"24px\"viewBox=\"0 0 24 24\"\n",
              "     width=\"24px\">\n",
              "    <g>\n",
              "        <path d=\"M19 3H5c-1.1 0-2 .9-2 2v14c0 1.1.9 2 2 2h14c1.1 0 2-.9 2-2V5c0-1.1-.9-2-2-2zM9 17H7v-7h2v7zm4 0h-2V7h2v10zm4 0h-2v-4h2v4z\"/>\n",
              "    </g>\n",
              "</svg>\n",
              "  </button>\n",
              "\n",
              "<style>\n",
              "  .colab-df-quickchart {\n",
              "      --bg-color: #E8F0FE;\n",
              "      --fill-color: #1967D2;\n",
              "      --hover-bg-color: #E2EBFA;\n",
              "      --hover-fill-color: #174EA6;\n",
              "      --disabled-fill-color: #AAA;\n",
              "      --disabled-bg-color: #DDD;\n",
              "  }\n",
              "\n",
              "  [theme=dark] .colab-df-quickchart {\n",
              "      --bg-color: #3B4455;\n",
              "      --fill-color: #D2E3FC;\n",
              "      --hover-bg-color: #434B5C;\n",
              "      --hover-fill-color: #FFFFFF;\n",
              "      --disabled-bg-color: #3B4455;\n",
              "      --disabled-fill-color: #666;\n",
              "  }\n",
              "\n",
              "  .colab-df-quickchart {\n",
              "    background-color: var(--bg-color);\n",
              "    border: none;\n",
              "    border-radius: 50%;\n",
              "    cursor: pointer;\n",
              "    display: none;\n",
              "    fill: var(--fill-color);\n",
              "    height: 32px;\n",
              "    padding: 0;\n",
              "    width: 32px;\n",
              "  }\n",
              "\n",
              "  .colab-df-quickchart:hover {\n",
              "    background-color: var(--hover-bg-color);\n",
              "    box-shadow: 0 1px 2px rgba(60, 64, 67, 0.3), 0 1px 3px 1px rgba(60, 64, 67, 0.15);\n",
              "    fill: var(--button-hover-fill-color);\n",
              "  }\n",
              "\n",
              "  .colab-df-quickchart-complete:disabled,\n",
              "  .colab-df-quickchart-complete:disabled:hover {\n",
              "    background-color: var(--disabled-bg-color);\n",
              "    fill: var(--disabled-fill-color);\n",
              "    box-shadow: none;\n",
              "  }\n",
              "\n",
              "  .colab-df-spinner {\n",
              "    border: 2px solid var(--fill-color);\n",
              "    border-color: transparent;\n",
              "    border-bottom-color: var(--fill-color);\n",
              "    animation:\n",
              "      spin 1s steps(1) infinite;\n",
              "  }\n",
              "\n",
              "  @keyframes spin {\n",
              "    0% {\n",
              "      border-color: transparent;\n",
              "      border-bottom-color: var(--fill-color);\n",
              "      border-left-color: var(--fill-color);\n",
              "    }\n",
              "    20% {\n",
              "      border-color: transparent;\n",
              "      border-left-color: var(--fill-color);\n",
              "      border-top-color: var(--fill-color);\n",
              "    }\n",
              "    30% {\n",
              "      border-color: transparent;\n",
              "      border-left-color: var(--fill-color);\n",
              "      border-top-color: var(--fill-color);\n",
              "      border-right-color: var(--fill-color);\n",
              "    }\n",
              "    40% {\n",
              "      border-color: transparent;\n",
              "      border-right-color: var(--fill-color);\n",
              "      border-top-color: var(--fill-color);\n",
              "    }\n",
              "    60% {\n",
              "      border-color: transparent;\n",
              "      border-right-color: var(--fill-color);\n",
              "    }\n",
              "    80% {\n",
              "      border-color: transparent;\n",
              "      border-right-color: var(--fill-color);\n",
              "      border-bottom-color: var(--fill-color);\n",
              "    }\n",
              "    90% {\n",
              "      border-color: transparent;\n",
              "      border-bottom-color: var(--fill-color);\n",
              "    }\n",
              "  }\n",
              "</style>\n",
              "\n",
              "  <script>\n",
              "    async function quickchart(key) {\n",
              "      const quickchartButtonEl =\n",
              "        document.querySelector('#' + key + ' button');\n",
              "      quickchartButtonEl.disabled = true;  // To prevent multiple clicks.\n",
              "      quickchartButtonEl.classList.add('colab-df-spinner');\n",
              "      try {\n",
              "        const charts = await google.colab.kernel.invokeFunction(\n",
              "            'suggestCharts', [key], {});\n",
              "      } catch (error) {\n",
              "        console.error('Error during call to suggestCharts:', error);\n",
              "      }\n",
              "      quickchartButtonEl.classList.remove('colab-df-spinner');\n",
              "      quickchartButtonEl.classList.add('colab-df-quickchart-complete');\n",
              "    }\n",
              "    (() => {\n",
              "      let quickchartButtonEl =\n",
              "        document.querySelector('#df-85b78853-e7d6-4fa2-8a72-dd33c8c29dd2 button');\n",
              "      quickchartButtonEl.style.display =\n",
              "        google.colab.kernel.accessAllowed ? 'block' : 'none';\n",
              "    })();\n",
              "  </script>\n",
              "</div>\n",
              "\n",
              "  <div id=\"id_85e2904f-e1f1-40b2-9571-79372c91adfb\">\n",
              "    <style>\n",
              "      .colab-df-generate {\n",
              "        background-color: #E8F0FE;\n",
              "        border: none;\n",
              "        border-radius: 50%;\n",
              "        cursor: pointer;\n",
              "        display: none;\n",
              "        fill: #1967D2;\n",
              "        height: 32px;\n",
              "        padding: 0 0 0 0;\n",
              "        width: 32px;\n",
              "      }\n",
              "\n",
              "      .colab-df-generate:hover {\n",
              "        background-color: #E2EBFA;\n",
              "        box-shadow: 0px 1px 2px rgba(60, 64, 67, 0.3), 0px 1px 3px 1px rgba(60, 64, 67, 0.15);\n",
              "        fill: #174EA6;\n",
              "      }\n",
              "\n",
              "      [theme=dark] .colab-df-generate {\n",
              "        background-color: #3B4455;\n",
              "        fill: #D2E3FC;\n",
              "      }\n",
              "\n",
              "      [theme=dark] .colab-df-generate:hover {\n",
              "        background-color: #434B5C;\n",
              "        box-shadow: 0px 1px 3px 1px rgba(0, 0, 0, 0.15);\n",
              "        filter: drop-shadow(0px 1px 2px rgba(0, 0, 0, 0.3));\n",
              "        fill: #FFFFFF;\n",
              "      }\n",
              "    </style>\n",
              "    <button class=\"colab-df-generate\" onclick=\"generateWithVariable('df')\"\n",
              "            title=\"Generate code using this dataframe.\"\n",
              "            style=\"display:none;\">\n",
              "\n",
              "  <svg xmlns=\"http://www.w3.org/2000/svg\" height=\"24px\"viewBox=\"0 0 24 24\"\n",
              "       width=\"24px\">\n",
              "    <path d=\"M7,19H8.4L18.45,9,17,7.55,7,17.6ZM5,21V16.75L18.45,3.32a2,2,0,0,1,2.83,0l1.4,1.43a1.91,1.91,0,0,1,.58,1.4,1.91,1.91,0,0,1-.58,1.4L9.25,21ZM18.45,9,17,7.55Zm-12,3A5.31,5.31,0,0,0,4.9,8.1,5.31,5.31,0,0,0,1,6.5,5.31,5.31,0,0,0,4.9,4.9,5.31,5.31,0,0,0,6.5,1,5.31,5.31,0,0,0,8.1,4.9,5.31,5.31,0,0,0,12,6.5,5.46,5.46,0,0,0,6.5,12Z\"/>\n",
              "  </svg>\n",
              "    </button>\n",
              "    <script>\n",
              "      (() => {\n",
              "      const buttonEl =\n",
              "        document.querySelector('#id_85e2904f-e1f1-40b2-9571-79372c91adfb button.colab-df-generate');\n",
              "      buttonEl.style.display =\n",
              "        google.colab.kernel.accessAllowed ? 'block' : 'none';\n",
              "\n",
              "      buttonEl.onclick = () => {\n",
              "        google.colab.notebook.generateWithVariable('df');\n",
              "      }\n",
              "      })();\n",
              "    </script>\n",
              "  </div>\n",
              "\n",
              "    </div>\n",
              "  </div>\n"
            ],
            "application/vnd.google.colaboratory.intrinsic+json": {
              "type": "dataframe",
              "variable_name": "df",
              "summary": "{\n  \"name\": \"df\",\n  \"rows\": 5,\n  \"fields\": [\n    {\n      \"column\": \"three_dim_data\",\n      \"properties\": {\n        \"dtype\": \"number\",\n        \"std\": 0.32842243270327803,\n        \"min\": 0.17841742607676475,\n        \"max\": 0.9882035545676177,\n        \"num_unique_values\": 5,\n        \"samples\": [\n          0.9882035545676177,\n          0.291884519848628,\n          0.24420507548008702\n        ],\n        \"semantic_type\": \"\",\n        \"description\": \"\"\n      }\n    },\n    {\n      \"column\": \"two_dim_data\",\n      \"properties\": {\n        \"dtype\": \"number\",\n        \"std\": 1.0139205541063603,\n        \"min\": -0.8647345558791522,\n        \"max\": 0.9999079386348672,\n        \"num_unique_values\": 5,\n        \"samples\": [\n          0.9987677580431721,\n          -0.8387442268291957,\n          0.9993492097463185\n        ],\n        \"semantic_type\": \"\",\n        \"description\": \"\"\n      }\n    }\n  ]\n}"
            }
          },
          "metadata": {},
          "execution_count": 31
        }
      ]
    },
    {
      "cell_type": "code",
      "source": [],
      "metadata": {
        "id": "A_Be6Jt2Surd"
      },
      "execution_count": null,
      "outputs": []
    }
  ]
}